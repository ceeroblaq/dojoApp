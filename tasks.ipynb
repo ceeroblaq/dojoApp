{
 "cells": [
  {
   "attachments": {},
   "cell_type": "markdown",
   "metadata": {},
   "source": [
    "<!-- **Connect player profile commenting to DB -->\n",
    "<!-- - CONNECT USER PROFILE DATA TO COMMENTING -->"
   ]
  },
  {
   "attachments": {},
   "cell_type": "markdown",
   "metadata": {},
   "source": [
    "Create Edit player data screen\n",
    "<!-- Toggle between user profile and player.- capture this switch on the DB -->"
   ]
  },
  {
   "attachments": {},
   "cell_type": "markdown",
   "metadata": {},
   "source": [
    "sign up sign in flow\n",
    "<!-- - login logic -->\n",
    "<!-- - sign up logic -->\n",
    "- if is player, create player id as well\n",
    "- facebook logic"
   ]
  },
  {
   "attachments": {},
   "cell_type": "markdown",
   "metadata": {},
   "source": [
    "user account screen needs work\n",
    "handle request\n",
    "handle follow"
   ]
  },
  {
   "cell_type": "code",
   "execution_count": null,
   "metadata": {
    "vscode": {
     "languageId": "plaintext"
    }
   },
   "outputs": [],
   "source": [
    "eas build -p android --profile preview"
   ]
  }
 ],
 "metadata": {
  "language_info": {
   "name": "python"
  },
  "orig_nbformat": 4
 },
 "nbformat": 4,
 "nbformat_minor": 2
}
